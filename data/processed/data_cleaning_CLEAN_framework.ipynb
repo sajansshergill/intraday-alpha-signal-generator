{
 "cells": [
  {
   "cell_type": "markdown",
   "id": "be9a080b",
   "metadata": {},
   "source": [
    "# 🧼 Data Cleaning Notebook — CLEAN Framework\n",
    "This notebook applies the **CLEAN** framework to prepare the dataset for analysis."
   ]
  },
  {
   "cell_type": "markdown",
   "id": "b0a0e0d6",
   "metadata": {},
   "source": [
    "## ✅ C – Conceptualize the Data\n",
    "- What does each row represent (grain)?\n",
    "- What are the key metrics?\n",
    "- What are the key dimensions?\n",
    "\n",
    "> Example: A row shows the BTCUSDT price action at a 1-minute interval.\n",
    "> Key metrics = close price, volume, returns.\n",
    "> Dimensions = timestamp, asset symbol, volatility category."
   ]
  },
  {
   "cell_type": "markdown",
   "id": "ac6966af",
   "metadata": {},
   "source": [
    "## ✅ L – Locate Solvable Issues\n",
    "- Inconsistent data types\n",
    "- Inconsistent spellings/values\n",
    "- Nulls and duplicates\n",
    "\n",
    "Use `.info()`, `.isnull().sum()`, and `.duplicated().sum()`"
   ]
  },
  {
   "cell_type": "code",
   "execution_count": null,
   "id": "0cdc7809",
   "metadata": {},
   "outputs": [],
   "source": [
    "# Load and preview data\n",
    "import pandas as pd\n",
    "\n",
    "df = pd.read_csv('../data/raw/BTCUSDT-1m-2025-08-07.csv', header=None)\n",
    "df.columns = [\n",
    "    \"timestamp\", \"open\", \"high\", \"low\", \"close\", \"volume\",\n",
    "    \"close_time\", \"quote_asset_volume\", \"number_of_trades\",\n",
    "    \"taker_buy_base_volume\", \"taker_buy_quote_volume\", \"ignore\"\n",
    "]\n",
    "df.info()\n",
    "df.head()"
   ]
  },
  {
   "cell_type": "code",
   "execution_count": null,
   "id": "ad4f5bbf",
   "metadata": {},
   "outputs": [],
   "source": [
    "# Convert timestamp and check for nulls and duplicates\n",
    "df['timestamp'] = pd.to_datetime(df['timestamp'], unit='ms')\n",
    "df.set_index('timestamp', inplace=True)\n",
    "\n",
    "print(\"Nulls:\")\n",
    "print(df.isnull().sum())\n",
    "\n",
    "print(\"\\nDuplicates:\")\n",
    "print(df.duplicated().sum())"
   ]
  },
  {
   "cell_type": "code",
   "execution_count": null,
   "id": "846a32fa",
   "metadata": {},
   "outputs": [],
   "source": [
    "# Load and preview data\n",
    "import pandas as pd\n",
    "\n",
    "df = pd.read_csv('/Users/sajanshergill/Downloads/BTCUSDT-1m-2025-08-07.xlsx', header=None)\n",
    "df.columns = [\n",
    "    \"timestamp\", \"open\", \"high\", \"low\", \"close\", \"volume\",\n",
    "    \"close_time\", \"quote_asset_volume\", \"number_of_trades\",\n",
    "    \"taker_buy_base_volume\", \"taker_buy_quote_volume\", \"ignore\"\n",
    "]\n",
    "df.info()\n",
    "df.head()"
   ]
  },
  {
   "cell_type": "code",
   "execution_count": null,
   "id": "75b57de3",
   "metadata": {},
   "outputs": [],
   "source": [
    "# Convert timestamp and check for nulls and duplicates\n",
    "df['timestamp'] = pd.to_datetime(df['timestamp'], unit='ms')\n",
    "df.set_index('timestamp', inplace=True)\n",
    "\n",
    "print(\"Nulls:\")\n",
    "print(df.isnull().sum())\n",
    "\n",
    "print(\"\\nDuplicates:\")\n",
    "print(df.duplicated().sum())"
   ]
  },
  {
   "cell_type": "code",
   "execution_count": null,
   "id": "4a19bf9c",
   "metadata": {},
   "outputs": [],
   "source": [
    "# Convert timestamp and check for nulls and duplicates\n",
    "df['timestamp'] = pd.to_datetime(df['timestamp'], unit='ms')\n",
    "df.set_index('timestamp', inplace=True)\n",
    "\n",
    "print(\"Nulls:\")\n",
    "print(df.isnull().sum())\n",
    "\n",
    "print(\"\\nDuplicates:\")\n",
    "print(df.duplicated().sum())"
   ]
  },
  {
   "cell_type": "markdown",
   "id": "d11ef21b",
   "metadata": {},
   "source": [
    "## ✅ E – Evaluate Unsolvable Issues\n",
    "- Outliers\n",
    "- Missing values with no source of truth\n",
    "- Business logic violations\n",
    "\n",
    "Use visualizations or descriptive stats to spot issues."
   ]
  },
  {
   "cell_type": "code",
   "execution_count": null,
   "id": "56bb86dc",
   "metadata": {},
   "outputs": [],
   "source": [
    "# Look for outliers in numeric columns\n",
    "import matplotlib.pyplot as plt\n",
    "import seaborn as sns\n",
    "\n",
    "numeric_cols = ['open', 'high', 'low', 'close', 'volume']\n",
    "df[numeric_cols].describe()\n",
    "\n",
    "# Example outlier visualization\n",
    "sns.boxplot(data=df[numeric_cols])\n",
    "plt.xticks(rotation=45)\n",
    "plt.title(\"Boxplot of Numeric Features\")\n",
    "plt.show()"
   ]
  },
  {
   "cell_type": "markdown",
   "id": "f3061fdc",
   "metadata": {},
   "source": [
    "## ✅ A – Augment the Data\n",
    "- Add calculated fields (returns, volatility, time-based features)\n",
    "- Slice and dice by different grains or dimensions"
   ]
  },
  {
   "cell_type": "code",
   "execution_count": null,
   "id": "905e8ae8",
   "metadata": {},
   "outputs": [],
   "source": [
    "# Log return and rolling volatility\n",
    "import numpy as np\n",
    "\n",
    "df['log_return'] = np.log(df['close'] / df['close'].shift(1))\n",
    "df['rolling_volatility'] = df['log_return'].rolling(window=15).std()\n",
    "\n",
    "# Extract time dimensions\n",
    "df['hour'] = df.index.hour\n",
    "df['weekday'] = df.index.weekday\n",
    "\n",
    "df[['log_return', 'rolling_volatility', 'hour', 'weekday']].head()"
   ]
  },
  {
   "cell_type": "markdown",
   "id": "f516dbf0",
   "metadata": {},
   "source": [
    "## ✅ N – Note and Document\n",
    "Create an **issues log** to summarize solvable and unsolvable problems."
   ]
  },
  {
   "cell_type": "code",
   "execution_count": null,
   "id": "2266995c",
   "metadata": {},
   "outputs": [],
   "source": [
    "# Sample issue log format as a DataFrame\n",
    "issue_log = pd.DataFrame([\n",
    "    {\"Column\": \"volume\", \"Issue\": \"Zero values\", \"Type\": \"Solvable\", \"Action Taken\": \"Filtered out\", \"Percent Affected\": \"0.5%\"},\n",
    "    {\"Column\": \"log_return\", \"Issue\": \"Null from shift\", \"Type\": \"Expected\", \"Action Taken\": \"Dropped first row\", \"Percent Affected\": \"<0.1%\"},\n",
    "])\n",
    "issue_log"
   ]
  }
 ],
 "metadata": {},
 "nbformat": 4,
 "nbformat_minor": 5
}
