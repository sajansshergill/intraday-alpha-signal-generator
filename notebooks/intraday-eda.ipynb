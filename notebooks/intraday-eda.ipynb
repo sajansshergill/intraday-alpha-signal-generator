{
 "cells": [
  {
   "cell_type": "code",
   "execution_count": 67,
   "id": "0e9f7b2a-452a-4b57-a4d4-40eda7bce602",
   "metadata": {},
   "outputs": [],
   "source": [
    "import sys\n",
    "import os\n",
    "\n",
    "# Adds the src directory to Python path\n",
    "sys.path.append(os.path.abspath(os.path.join(\"..\", \"src\")))"
   ]
  },
  {
   "cell_type": "markdown",
   "id": "be9a080b",
   "metadata": {},
   "source": [
    "# 🧼 Data Cleaning Notebook — CLEAN Framework\n",
    "This notebook applies the **CLEAN** framework to prepare the dataset for analysis."
   ]
  },
  {
   "cell_type": "markdown",
   "id": "b0a0e0d6",
   "metadata": {},
   "source": [
    "## ✅ C – Conceptualize the Data\n",
    "- What does each row represent (grain)?\n",
    "- What are the key metrics?\n",
    "- What are the key dimensions?\n",
    "\n",
    "> Example: A row shows the BTCUSDT price action at a 1-minute interval.\n",
    "> Key metrics = close price, volume, returns.\n",
    "> Dimensions = timestamp, asset symbol, volatility category."
   ]
  },
  {
   "cell_type": "markdown",
   "id": "ac6966af",
   "metadata": {},
   "source": [
    "## ✅ L – Locate Solvable Issues\n",
    "- Inconsistent data types\n",
    "- Inconsistent spellings/values\n",
    "- Nulls and duplicates\n",
    "\n",
    "Use `.info()`, `.isnull().sum()`, and `.duplicated().sum()`"
   ]
  },
  {
   "cell_type": "code",
   "execution_count": 5,
   "id": "0cdc7809",
   "metadata": {},
   "outputs": [
    {
     "name": "stdout",
     "output_type": "stream",
     "text": [
      "<class 'pandas.core.frame.DataFrame'>\n",
      "RangeIndex: 1440 entries, 0 to 1439\n",
      "Data columns (total 12 columns):\n",
      " #   Column                  Non-Null Count  Dtype  \n",
      "---  ------                  --------------  -----  \n",
      " 0   timestamp               1440 non-null   int64  \n",
      " 1   open                    1440 non-null   float64\n",
      " 2   high                    1440 non-null   float64\n",
      " 3   low                     1440 non-null   float64\n",
      " 4   close                   1440 non-null   float64\n",
      " 5   volume                  1440 non-null   float64\n",
      " 6   close_time              1440 non-null   int64  \n",
      " 7   quote_asset_volume      1440 non-null   float64\n",
      " 8   number_of_trades        1440 non-null   int64  \n",
      " 9   taker_buy_base_volume   1440 non-null   float64\n",
      " 10  taker_buy_quote_volume  1440 non-null   float64\n",
      " 11  ignore                  1440 non-null   int64  \n",
      "dtypes: float64(8), int64(4)\n",
      "memory usage: 135.1 KB\n"
     ]
    },
    {
     "data": {
      "text/html": [
       "<div>\n",
       "<style scoped>\n",
       "    .dataframe tbody tr th:only-of-type {\n",
       "        vertical-align: middle;\n",
       "    }\n",
       "\n",
       "    .dataframe tbody tr th {\n",
       "        vertical-align: top;\n",
       "    }\n",
       "\n",
       "    .dataframe thead th {\n",
       "        text-align: right;\n",
       "    }\n",
       "</style>\n",
       "<table border=\"1\" class=\"dataframe\">\n",
       "  <thead>\n",
       "    <tr style=\"text-align: right;\">\n",
       "      <th></th>\n",
       "      <th>timestamp</th>\n",
       "      <th>open</th>\n",
       "      <th>high</th>\n",
       "      <th>low</th>\n",
       "      <th>close</th>\n",
       "      <th>volume</th>\n",
       "      <th>close_time</th>\n",
       "      <th>quote_asset_volume</th>\n",
       "      <th>number_of_trades</th>\n",
       "      <th>taker_buy_base_volume</th>\n",
       "      <th>taker_buy_quote_volume</th>\n",
       "      <th>ignore</th>\n",
       "    </tr>\n",
       "  </thead>\n",
       "  <tbody>\n",
       "    <tr>\n",
       "      <th>0</th>\n",
       "      <td>1754524800000000</td>\n",
       "      <td>114992.27</td>\n",
       "      <td>114992.27</td>\n",
       "      <td>114956.00</td>\n",
       "      <td>114956.01</td>\n",
       "      <td>5.12324</td>\n",
       "      <td>1754524859999999</td>\n",
       "      <td>589049.512953</td>\n",
       "      <td>1336</td>\n",
       "      <td>0.33951</td>\n",
       "      <td>39035.213386</td>\n",
       "      <td>0</td>\n",
       "    </tr>\n",
       "    <tr>\n",
       "      <th>1</th>\n",
       "      <td>1754524860000000</td>\n",
       "      <td>114956.00</td>\n",
       "      <td>114956.01</td>\n",
       "      <td>114955.99</td>\n",
       "      <td>114956.00</td>\n",
       "      <td>2.07221</td>\n",
       "      <td>1754524919999999</td>\n",
       "      <td>238212.976904</td>\n",
       "      <td>366</td>\n",
       "      <td>0.45984</td>\n",
       "      <td>52861.371189</td>\n",
       "      <td>0</td>\n",
       "    </tr>\n",
       "    <tr>\n",
       "      <th>2</th>\n",
       "      <td>1754524920000000</td>\n",
       "      <td>114956.00</td>\n",
       "      <td>114956.01</td>\n",
       "      <td>114955.99</td>\n",
       "      <td>114956.01</td>\n",
       "      <td>1.10290</td>\n",
       "      <td>1754524979999999</td>\n",
       "      <td>126784.975027</td>\n",
       "      <td>409</td>\n",
       "      <td>0.90160</td>\n",
       "      <td>103644.333327</td>\n",
       "      <td>0</td>\n",
       "    </tr>\n",
       "    <tr>\n",
       "      <th>3</th>\n",
       "      <td>1754524980000000</td>\n",
       "      <td>114956.01</td>\n",
       "      <td>114956.01</td>\n",
       "      <td>114948.35</td>\n",
       "      <td>114948.35</td>\n",
       "      <td>5.97496</td>\n",
       "      <td>1754525039999999</td>\n",
       "      <td>686850.184273</td>\n",
       "      <td>780</td>\n",
       "      <td>0.65913</td>\n",
       "      <td>75769.990634</td>\n",
       "      <td>0</td>\n",
       "    </tr>\n",
       "    <tr>\n",
       "      <th>4</th>\n",
       "      <td>1754525040000000</td>\n",
       "      <td>114948.35</td>\n",
       "      <td>114948.36</td>\n",
       "      <td>114948.34</td>\n",
       "      <td>114948.35</td>\n",
       "      <td>1.16591</td>\n",
       "      <td>1754525099999999</td>\n",
       "      <td>134019.424369</td>\n",
       "      <td>291</td>\n",
       "      <td>0.12158</td>\n",
       "      <td>13975.420563</td>\n",
       "      <td>0</td>\n",
       "    </tr>\n",
       "  </tbody>\n",
       "</table>\n",
       "</div>"
      ],
      "text/plain": [
       "          timestamp       open       high        low      close   volume  \\\n",
       "0  1754524800000000  114992.27  114992.27  114956.00  114956.01  5.12324   \n",
       "1  1754524860000000  114956.00  114956.01  114955.99  114956.00  2.07221   \n",
       "2  1754524920000000  114956.00  114956.01  114955.99  114956.01  1.10290   \n",
       "3  1754524980000000  114956.01  114956.01  114948.35  114948.35  5.97496   \n",
       "4  1754525040000000  114948.35  114948.36  114948.34  114948.35  1.16591   \n",
       "\n",
       "         close_time  quote_asset_volume  number_of_trades  \\\n",
       "0  1754524859999999       589049.512953              1336   \n",
       "1  1754524919999999       238212.976904               366   \n",
       "2  1754524979999999       126784.975027               409   \n",
       "3  1754525039999999       686850.184273               780   \n",
       "4  1754525099999999       134019.424369               291   \n",
       "\n",
       "   taker_buy_base_volume  taker_buy_quote_volume  ignore  \n",
       "0                0.33951            39035.213386       0  \n",
       "1                0.45984            52861.371189       0  \n",
       "2                0.90160           103644.333327       0  \n",
       "3                0.65913            75769.990634       0  \n",
       "4                0.12158            13975.420563       0  "
      ]
     },
     "execution_count": 5,
     "metadata": {},
     "output_type": "execute_result"
    }
   ],
   "source": [
    "# Load and preview data\n",
    "import pandas as pd\n",
    "\n",
    "df = pd.read_csv('/Users/sajanshergill/Downloads/BTCUSDT-1m-2025-08-07.csv', header=None)\n",
    "df.columns = [\n",
    "    \"timestamp\", \"open\", \"high\", \"low\", \"close\", \"volume\",\n",
    "    \"close_time\", \"quote_asset_volume\", \"number_of_trades\",\n",
    "    \"taker_buy_base_volume\", \"taker_buy_quote_volume\", \"ignore\"\n",
    "]\n",
    "df.info()\n",
    "df.head()"
   ]
  },
  {
   "cell_type": "code",
   "execution_count": 7,
   "id": "c6890304-22ce-4dc3-ab64-63299ec838af",
   "metadata": {},
   "outputs": [
    {
     "name": "stdout",
     "output_type": "stream",
     "text": [
      "Min timestamp: 1754524800000000\n",
      "Max timestamp: 1754611140000000\n"
     ]
    }
   ],
   "source": [
    "# Check the range of the timestamp values (should be in milliseconds)\n",
    "print(\"Min timestamp:\", df['timestamp'].min())\n",
    "print(\"Max timestamp:\", df['timestamp'].max())\n"
   ]
  },
  {
   "cell_type": "code",
   "execution_count": 11,
   "id": "c1ef2e38-36f5-4ad0-95fa-5383ca1c1b60",
   "metadata": {},
   "outputs": [],
   "source": [
    "# 🧩 3. Filter valid timestamps\n",
    "# Keep only valid Unix milliseconds: between 1.4e12 (2014) and 2.25e12 (2262)\n",
    "df = df[(df['timestamp'] > 1.4e12) & (df['timestamp'] < 2.25e12)].copy()"
   ]
  },
  {
   "cell_type": "code",
   "execution_count": 13,
   "id": "e9a984b1-2905-422f-b360-e224719cac29",
   "metadata": {},
   "outputs": [],
   "source": [
    "# Convert timestamp to datetime\n",
    "df['timestamp'] = pd.to_datetime(df['timestamp'], unit='ms')\n",
    "\n",
    "# Set as index\n",
    "df.set_index('timestamp', inplace=True)\n"
   ]
  },
  {
   "cell_type": "code",
   "execution_count": 15,
   "id": "67b8bd18-56f2-439b-bcf1-55843e5f60ed",
   "metadata": {},
   "outputs": [],
   "source": [
    "# Drop the 'ignore' column\n",
    "df.drop(columns=['ignore'], inplace=True)\n"
   ]
  },
  {
   "cell_type": "code",
   "execution_count": 17,
   "id": "83f549db-05d9-4427-b3b7-31bf65a21182",
   "metadata": {},
   "outputs": [
    {
     "name": "stdout",
     "output_type": "stream",
     "text": [
      "Null values per column:\n",
      "open                      0\n",
      "high                      0\n",
      "low                       0\n",
      "close                     0\n",
      "volume                    0\n",
      "close_time                0\n",
      "quote_asset_volume        0\n",
      "number_of_trades          0\n",
      "taker_buy_base_volume     0\n",
      "taker_buy_quote_volume    0\n",
      "dtype: int64\n",
      "\n",
      "Number of duplicate rows:\n",
      "0\n"
     ]
    }
   ],
   "source": [
    "print(\"Null values per column:\")\n",
    "print(df.isnull().sum())\n",
    "\n",
    "print(\"\\nNumber of duplicate rows:\")\n",
    "print(df.duplicated().sum())\n"
   ]
  },
  {
   "cell_type": "markdown",
   "id": "d11ef21b",
   "metadata": {},
   "source": [
    "## ✅ E – Evaluate Unsolvable Issues\n",
    "- Outliers\n",
    "- Missing values with no source of truth\n",
    "- Business logic violations\n",
    "\n",
    "Use visualizations or descriptive stats to spot issues."
   ]
  },
  {
   "cell_type": "code",
   "execution_count": 30,
   "id": "56bb86dc",
   "metadata": {},
   "outputs": [
    {
     "data": {
      "image/png": "[encoded data removed]",
      "text/plain": [
       "<Figure size 1000x500 with 1 Axes>"
      ]
     },
     "metadata": {},
     "output_type": "display_data"
    }
   ],
   "source": [
    "import numpy as np\n",
    "import matplotlib.pyplot as plt\n",
    "import seaborn as sns\n",
    "\n",
    "# Define numeric columns\n",
    "numeric_cols = ['open', 'high', 'low', 'close', 'volume']\n",
    "\n",
    "# Apply log1p transformation\n",
    "log_df = np.log1p(df[numeric_cols])\n",
    "\n",
    "# Drop any rows with NaNs after transformation\n",
    "log_df = log_df.dropna()\n",
    "\n",
    "# Plot clean boxplot\n",
    "plt.figure(figsize=(10, 5))\n",
    "sns.boxplot(data=log_df)\n",
    "plt.xticks(rotation=45)\n",
    "plt.title(\"Boxplot of Log-Scaled Numeric Features\")  # <- removed emoji\n",
    "plt.tight_layout()\n",
    "plt.show()"
   ]
  },
  {
   "cell_type": "markdown",
   "id": "2d8c5c56-cd43-4cab-b79a-82792b7d5798",
   "metadata": {},
   "source": [
    "Even after log-scaling your boxplot is completely blank, that tells us the plot is being distorted by extreme outliers or the data isn't varying enough visually across features."
   ]
  },
  {
   "cell_type": "code",
   "execution_count": 33,
   "id": "61f82e85-6a17-41cc-9ea0-934c38b1cacf",
   "metadata": {},
   "outputs": [
    {
     "data": {
      "text/html": [
       "<div>\n",
       "<style scoped>\n",
       "    .dataframe tbody tr th:only-of-type {\n",
       "        vertical-align: middle;\n",
       "    }\n",
       "\n",
       "    .dataframe tbody tr th {\n",
       "        vertical-align: top;\n",
       "    }\n",
       "\n",
       "    .dataframe thead th {\n",
       "        text-align: right;\n",
       "    }\n",
       "</style>\n",
       "<table border=\"1\" class=\"dataframe\">\n",
       "  <thead>\n",
       "    <tr style=\"text-align: right;\">\n",
       "      <th></th>\n",
       "      <th>count</th>\n",
       "      <th>mean</th>\n",
       "      <th>std</th>\n",
       "      <th>min</th>\n",
       "      <th>25%</th>\n",
       "      <th>50%</th>\n",
       "      <th>75%</th>\n",
       "      <th>max</th>\n",
       "    </tr>\n",
       "  </thead>\n",
       "  <tbody>\n",
       "    <tr>\n",
       "      <th>open</th>\n",
       "      <td>0.0</td>\n",
       "      <td>NaN</td>\n",
       "      <td>NaN</td>\n",
       "      <td>NaN</td>\n",
       "      <td>NaN</td>\n",
       "      <td>NaN</td>\n",
       "      <td>NaN</td>\n",
       "      <td>NaN</td>\n",
       "    </tr>\n",
       "    <tr>\n",
       "      <th>high</th>\n",
       "      <td>0.0</td>\n",
       "      <td>NaN</td>\n",
       "      <td>NaN</td>\n",
       "      <td>NaN</td>\n",
       "      <td>NaN</td>\n",
       "      <td>NaN</td>\n",
       "      <td>NaN</td>\n",
       "      <td>NaN</td>\n",
       "    </tr>\n",
       "    <tr>\n",
       "      <th>low</th>\n",
       "      <td>0.0</td>\n",
       "      <td>NaN</td>\n",
       "      <td>NaN</td>\n",
       "      <td>NaN</td>\n",
       "      <td>NaN</td>\n",
       "      <td>NaN</td>\n",
       "      <td>NaN</td>\n",
       "      <td>NaN</td>\n",
       "    </tr>\n",
       "    <tr>\n",
       "      <th>close</th>\n",
       "      <td>0.0</td>\n",
       "      <td>NaN</td>\n",
       "      <td>NaN</td>\n",
       "      <td>NaN</td>\n",
       "      <td>NaN</td>\n",
       "      <td>NaN</td>\n",
       "      <td>NaN</td>\n",
       "      <td>NaN</td>\n",
       "    </tr>\n",
       "    <tr>\n",
       "      <th>volume</th>\n",
       "      <td>0.0</td>\n",
       "      <td>NaN</td>\n",
       "      <td>NaN</td>\n",
       "      <td>NaN</td>\n",
       "      <td>NaN</td>\n",
       "      <td>NaN</td>\n",
       "      <td>NaN</td>\n",
       "      <td>NaN</td>\n",
       "    </tr>\n",
       "  </tbody>\n",
       "</table>\n",
       "</div>"
      ],
      "text/plain": [
       "        count  mean  std  min  25%  50%  75%  max\n",
       "open      0.0   NaN  NaN  NaN  NaN  NaN  NaN  NaN\n",
       "high      0.0   NaN  NaN  NaN  NaN  NaN  NaN  NaN\n",
       "low       0.0   NaN  NaN  NaN  NaN  NaN  NaN  NaN\n",
       "close     0.0   NaN  NaN  NaN  NaN  NaN  NaN  NaN\n",
       "volume    0.0   NaN  NaN  NaN  NaN  NaN  NaN  NaN"
      ]
     },
     "execution_count": 33,
     "metadata": {},
     "output_type": "execute_result"
    }
   ],
   "source": [
    "# Check value range for each feature\n",
    "df[['open', 'high', 'low', 'close', 'volume']].describe().T\n"
   ]
  },
  {
   "cell_type": "code",
   "execution_count": 35,
   "id": "a8551884-6e60-41fb-af40-3ca942d33f63",
   "metadata": {},
   "outputs": [
    {
     "data": {
      "image/png": "[encoded data removed]",
      "text/plain": [
       "<Figure size 1000x500 with 1 Axes>"
      ]
     },
     "metadata": {},
     "output_type": "display_data"
    }
   ],
   "source": [
    "# Define numeric columns\n",
    "numeric_cols = ['open', 'high', 'low', 'close', 'volume']\n",
    "\n",
    "# Work on a copy of the data\n",
    "vis_df = df[numeric_cols].copy()\n",
    "\n",
    "# Clip values at 1st and 99th percentile (winsorize)\n",
    "for col in numeric_cols:\n",
    "    lower = vis_df[col].quantile(0.01)\n",
    "    upper = vis_df[col].quantile(0.99)\n",
    "    vis_df[col] = vis_df[col].clip(lower, upper)\n",
    "\n",
    "# Plot after clipping\n",
    "plt.figure(figsize=(10, 5))\n",
    "sns.boxplot(data=vis_df)\n",
    "plt.xticks(rotation=45)\n",
    "plt.title(\"Boxplot After Clipping Extreme Outliers\")\n",
    "plt.tight_layout()\n",
    "plt.show()\n"
   ]
  },
  {
   "cell_type": "code",
   "execution_count": 37,
   "id": "2529f483-156c-418f-b250-bdaef744f6fd",
   "metadata": {},
   "outputs": [
    {
     "data": {
      "image/png": "[encoded data removed]",
      "text/plain": [
       "<Figure size 600x150 with 1 Axes>"
      ]
     },
     "metadata": {},
     "output_type": "display_data"
    },
    {
     "data": {
      "image/png": "[encoded data removed]",
      "text/plain": [
       "<Figure size 600x150 with 1 Axes>"
      ]
     },
     "metadata": {},
     "output_type": "display_data"
    },
    {
     "data": {
      "image/png": "[encoded data removed]",
      "text/plain": [
       "<Figure size 600x150 with 1 Axes>"
      ]
     },
     "metadata": {},
     "output_type": "display_data"
    },
    {
     "data": {
      "image/png": "[encoded data removed]",
      "text/plain": [
       "<Figure size 600x150 with 1 Axes>"
      ]
     },
     "metadata": {},
     "output_type": "display_data"
    },
    {
     "data": {
      "image/png": "[encoded data removed]",
      "text/plain": [
       "<Figure size 600x150 with 1 Axes>"
      ]
     },
     "metadata": {},
     "output_type": "display_data"
    }
   ],
   "source": [
    "for col in numeric_cols:\n",
    "    plt.figure(figsize=(6, 1.5))\n",
    "    sns.boxplot(x=df[col])\n",
    "    plt.title(f\"Boxplot of {col}\")\n",
    "    plt.show()\n"
   ]
  },
  {
   "cell_type": "markdown",
   "id": "b9d1fca7-385a-4e24-8f24-f8fff1290960",
   "metadata": {},
   "source": [
    "During the exploratory data analysis of the 1-minute BTC/USDT trading data for 2025-08-07, we examined potential outliers in the core numeric features: open, high, low, close, and volume.\n",
    "\n",
    "Boxplots of the raw values revealed no visible outliers across any of the numeric columns.\n",
    "\n",
    "Even after applying log-transformation and individual column visualizations, the values remained tightly clustered.\n",
    "\n",
    "This suggests a highly stable dataset with minimal variance, which is expected for 1-minute interval data over a single day.\n",
    "\n",
    "The absence of outliers indicates clean data without abnormal spikes or anomalies, and no immediate need for outlier treatment.\n",
    "\n",
    "However, due to the short timeframe and high granularity, this dataset may not capture broader market movements or extreme events.\n",
    "\n",
    "✅ Conclusion: No significant outliers were detected. Data appears consistent and reliable for further analysis or modeling, though expanding the time range may yield more variance and meaningful insights."
   ]
  },
  {
   "cell_type": "markdown",
   "id": "f3061fdc",
   "metadata": {},
   "source": [
    "## ✅ A – Augment the Data\n",
    "- Add calculated fields (returns, volatility, time-based features)\n",
    "- Slice and dice by different grains or dimensions"
   ]
  },
  {
   "cell_type": "code",
   "execution_count": 57,
   "id": "905e8ae8",
   "metadata": {},
   "outputs": [
    {
     "name": "stdout",
     "output_type": "stream",
     "text": [
      "0    1754524800000000\n",
      "1    1754524860000000\n",
      "2    1754524920000000\n",
      "3    1754524980000000\n",
      "4    1754525040000000\n",
      "Name: timestamp, dtype: int64\n"
     ]
    }
   ],
   "source": [
    "import pandas as pd\n",
    "\n",
    "# Load raw CSV (no headers)\n",
    "df = pd.read_csv(\"BTCUSDT-1m-2025-08-07.csv\", header=None)\n",
    "\n",
    "# Assign proper column names\n",
    "df.columns = ['timestamp', 'open', 'high', 'low', 'close', 'volume', \n",
    "              'close_time', 'quote_asset_volume', 'num_trades', \n",
    "              'taker_buy_base_volume', 'taker_buy_quote_volume', 'ignore']\n",
    "\n",
    "# Show first few timestamps\n",
    "print(df['timestamp'].head())\n"
   ]
  },
  {
   "cell_type": "code",
   "execution_count": 59,
   "id": "23375c6f-f85d-4077-bfd6-680243fca84f",
   "metadata": {},
   "outputs": [],
   "source": [
    "# Convert timestamp to datetime — try 's' instead of 'ms'\n",
    "df['timestamp'] = pd.to_datetime(df['timestamp'], unit='s', errors='coerce')\n",
    "\n",
    "# Drop rows where timestamp couldn't be parsed\n",
    "df.dropna(subset=['timestamp'], inplace=True)\n"
   ]
  },
  {
   "cell_type": "code",
   "execution_count": 61,
   "id": "0ac5c3c2-87b7-4581-8a77-c29da3e5fc3e",
   "metadata": {},
   "outputs": [
    {
     "name": "stdout",
     "output_type": "stream",
     "text": [
      "Empty DataFrame\n",
      "Columns: [open, high, low, close, volume, close_time, quote_asset_volume, num_trades, taker_buy_base_volume, taker_buy_quote_volume, ignore]\n",
      "Index: []\n",
      "DatetimeIndex([], dtype='datetime64[ns]', name='timestamp', freq=None)\n"
     ]
    }
   ],
   "source": [
    "# Set timestamp as index\n",
    "df.set_index('timestamp', inplace=True)\n",
    "\n",
    "# Confirm it's not empty\n",
    "print(df.head())\n",
    "print(df.index)\n"
   ]
  },
  {
   "cell_type": "code",
   "execution_count": 63,
   "id": "9459fde6-274e-4e1b-8f0e-592e4e89c273",
   "metadata": {},
   "outputs": [
    {
     "data": {
      "text/html": [
       "<div>\n",
       "<style scoped>\n",
       "    .dataframe tbody tr th:only-of-type {\n",
       "        vertical-align: middle;\n",
       "    }\n",
       "\n",
       "    .dataframe tbody tr th {\n",
       "        vertical-align: top;\n",
       "    }\n",
       "\n",
       "    .dataframe thead th {\n",
       "        text-align: right;\n",
       "    }\n",
       "</style>\n",
       "<table border=\"1\" class=\"dataframe\">\n",
       "  <thead>\n",
       "    <tr style=\"text-align: right;\">\n",
       "      <th></th>\n",
       "      <th>close</th>\n",
       "      <th>log_return</th>\n",
       "      <th>rolling_volatility</th>\n",
       "      <th>hour</th>\n",
       "      <th>weekday</th>\n",
       "    </tr>\n",
       "    <tr>\n",
       "      <th>timestamp</th>\n",
       "      <th></th>\n",
       "      <th></th>\n",
       "      <th></th>\n",
       "      <th></th>\n",
       "      <th></th>\n",
       "    </tr>\n",
       "  </thead>\n",
       "  <tbody>\n",
       "  </tbody>\n",
       "</table>\n",
       "</div>"
      ],
      "text/plain": [
       "Empty DataFrame\n",
       "Columns: [close, log_return, rolling_volatility, hour, weekday]\n",
       "Index: []"
      ]
     },
     "execution_count": 63,
     "metadata": {},
     "output_type": "execute_result"
    }
   ],
   "source": [
    "import numpy as np\n",
    "\n",
    "# Step 1: Compute log return\n",
    "df['log_return'] = np.log(df['close'] / df['close'].shift(1))\n",
    "\n",
    "# Step 2: Compute rolling volatility (15-period window)\n",
    "df['rolling_volatility'] = df['log_return'].rolling(window=15).std()\n",
    "\n",
    "# Step 3: Extract time-based features\n",
    "df['hour'] = df.index.hour\n",
    "df['weekday'] = df.index.weekday\n",
    "\n",
    "# Step 4: Preview new features\n",
    "df[['close', 'log_return', 'rolling_volatility', 'hour', 'weekday']].head(10)\n"
   ]
  },
  {
   "cell_type": "markdown",
   "id": "f516dbf0",
   "metadata": {},
   "source": [
    "## ✅ N – Note and Document\n",
    "Create an **issues log** to summarize solvable and unsolvable problems."
   ]
  },
  {
   "cell_type": "code",
   "execution_count": 65,
   "id": "2266995c",
   "metadata": {},
   "outputs": [
    {
     "data": {
      "text/html": [
       "<div>\n",
       "<style scoped>\n",
       "    .dataframe tbody tr th:only-of-type {\n",
       "        vertical-align: middle;\n",
       "    }\n",
       "\n",
       "    .dataframe tbody tr th {\n",
       "        vertical-align: top;\n",
       "    }\n",
       "\n",
       "    .dataframe thead th {\n",
       "        text-align: right;\n",
       "    }\n",
       "</style>\n",
       "<table border=\"1\" class=\"dataframe\">\n",
       "  <thead>\n",
       "    <tr style=\"text-align: right;\">\n",
       "      <th></th>\n",
       "      <th>Column</th>\n",
       "      <th>Issue</th>\n",
       "      <th>Type</th>\n",
       "      <th>Action Taken</th>\n",
       "      <th>Percent Affected</th>\n",
       "    </tr>\n",
       "  </thead>\n",
       "  <tbody>\n",
       "    <tr>\n",
       "      <th>0</th>\n",
       "      <td>volume</td>\n",
       "      <td>Zero values</td>\n",
       "      <td>Solvable</td>\n",
       "      <td>Filtered out</td>\n",
       "      <td>0.5%</td>\n",
       "    </tr>\n",
       "    <tr>\n",
       "      <th>1</th>\n",
       "      <td>log_return</td>\n",
       "      <td>Null from shift</td>\n",
       "      <td>Expected</td>\n",
       "      <td>Dropped first row</td>\n",
       "      <td>&lt;0.1%</td>\n",
       "    </tr>\n",
       "  </tbody>\n",
       "</table>\n",
       "</div>"
      ],
      "text/plain": [
       "       Column            Issue      Type       Action Taken Percent Affected\n",
       "0      volume      Zero values  Solvable       Filtered out             0.5%\n",
       "1  log_return  Null from shift  Expected  Dropped first row            <0.1%"
      ]
     },
     "execution_count": 65,
     "metadata": {},
     "output_type": "execute_result"
    }
   ],
   "source": [
    "# Sample issue log format as a DataFrame\n",
    "issue_log = pd.DataFrame([\n",
    "    {\"Column\": \"volume\", \"Issue\": \"Zero values\", \"Type\": \"Solvable\", \"Action Taken\": \"Filtered out\", \"Percent Affected\": \"0.5%\"},\n",
    "    {\"Column\": \"log_return\", \"Issue\": \"Null from shift\", \"Type\": \"Expected\", \"Action Taken\": \"Dropped first row\", \"Percent Affected\": \"<0.1%\"},\n",
    "])\n",
    "issue_log"
   ]
  },
  {
   "cell_type": "code",
   "execution_count": null,
   "id": "9aaa80e9-d01d-4479-9f78-a1fd9831bf7e",
   "metadata": {},
   "outputs": [],
   "source": []
  }
 ],
 "metadata": {
  "kernelspec": {
   "display_name": "Python [conda env:venv]",
   "language": "python",
   "name": "conda-env-venv-py"
  },
  "language_info": {
   "codemirror_mode": {
    "name": "ipython",
    "version": 3
   },
   "file_extension": ".py",
   "mimetype": "text/x-python",
   "name": "python",
   "nbconvert_exporter": "python",
   "pygments_lexer": "ipython3",
   "version": "3.9.21"
  }
 },
 "nbformat": 4,
 "nbformat_minor": 5
}
